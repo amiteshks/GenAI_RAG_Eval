{
 "cells": [
  {
   "cell_type": "code",
   "execution_count": null,
   "id": "f0a0ec9f",
   "metadata": {},
   "outputs": [],
   "source": [
    "# !pip install --upgrade pip\n",
    "# !pip install -q sentence-transformers\n",
    "# !pip install ragas datasets"
   ]
  },
  {
   "cell_type": "code",
   "execution_count": 21,
   "id": "190d7caf",
   "metadata": {},
   "outputs": [],
   "source": [
    "from datasets import Dataset\n",
    "from ragas import evaluate\n",
    "from ragas.metrics import (\n",
    "    context_recall,\n",
    "    context_precision,\n",
    "    faithfulness,\n",
    "    answer_correctness,\n",
    "    answer_similarity\n",
    ")\n"
   ]
  },
  {
   "cell_type": "code",
   "execution_count": 22,
   "id": "8fb40bd6",
   "metadata": {},
   "outputs": [],
   "source": [
    "\n",
    "import numpy as np\n",
    "from sentence_transformers import SentenceTransformer, util\n",
    "from dotenv import load_dotenv\n",
    "from openai import OpenAI\n",
    "import os\n",
    "\n",
    "# --- Load API Key ---\n",
    "load_dotenv(override=True)\n",
    "my_api_key = os.getenv(\"OPENAI_API_KEY\")\n",
    "\n",
    "client = OpenAI(api_key=my_api_key)\n"
   ]
  },
  {
   "cell_type": "code",
   "execution_count": 23,
   "id": "6571c151",
   "metadata": {},
   "outputs": [],
   "source": [
    "# --- Retriever: Get top-k docs ---\n",
    "def get_top_k_similar(query, k=3):\n",
    "    documents = [\n",
    "        {\"section\": \"Pay Policies\", \"content\": \"Employees are paid bi-weekly via direct deposit.\"},\n",
    "        {\"section\": \"Leave of Absence\", \"content\": \"Employees must submit a leave request for approval.\"},\n",
    "        {\"section\": \"Internet Use\", \"content\": \"Company internet must be used for work-related tasks only.\"}\n",
    "    ]\n",
    "\n",
    "    texts = [doc[\"content\"] for doc in documents]\n",
    "    model = SentenceTransformer(\"all-MiniLM-L6-v2\")\n",
    "    doc_vectors = model.encode(texts, convert_to_tensor=True)\n",
    "    query_vec = model.encode(query, convert_to_tensor=True)\n",
    "\n",
    "    similarities = util.cos_sim(query_vec, doc_vectors)[0].cpu().numpy()\n",
    "    top_k_idx = np.argsort(similarities)[::-1][:k]\n",
    "\n",
    "    return [documents[int(idx)] for idx in top_k_idx]\n",
    "\n"
   ]
  },
  {
   "cell_type": "code",
   "execution_count": 24,
   "id": "9415ffcc",
   "metadata": {},
   "outputs": [],
   "source": [
    "\n",
    "\n",
    "\n",
    "# --- Generator: Use OpenAI with retrieved docs ---\n",
    "def generate_answer(query, contexts):\n",
    "    context_text = \" \".join(contexts)\n",
    "    prompt = f\"Answer the question based only on the following context:\\n{context_text}\\n\\nQuestion: {query}\\nAnswer:\"\n",
    "    \n",
    "    completion = client.chat.completions.create(\n",
    "        model=\"gpt-4o-mini\",  # or gpt-3.5-turbo\n",
    "        messages=[{\"role\": \"user\", \"content\": prompt}],\n",
    "        max_tokens=200,\n",
    "    )\n",
    "    return completion.choices[0].message.content.strip()\n",
    "\n"
   ]
  },
  {
   "cell_type": "code",
   "execution_count": 25,
   "id": "3ccb7666",
   "metadata": {},
   "outputs": [],
   "source": [
    "\n",
    "# --- Build dataset for Ragas ---\n",
    "def build_dataset():\n",
    "    query = \"How often do employees get paid?\"\n",
    "    retrieved_docs = get_top_k_similar(query, 3)\n",
    "    contexts = [d[\"content\"] for d in retrieved_docs]\n",
    "\n",
    "    # Gold reference\n",
    "    gold_answer = \"Employees are paid bi-weekly via direct deposit.\"\n",
    "\n",
    "    # Generate answer using LLM\n",
    "    model_answer = generate_answer(query, contexts)\n",
    "\n",
    "    examples = [\n",
    "        {\n",
    "            \"question\": query,\n",
    "            \"answer\": model_answer,        # LLM-generated answer\n",
    "            \"contexts\": contexts,         \n",
    "            \"reference\": gold_answer,     \n",
    "            \"ground_truths\": [gold_answer]\n",
    "        }\n",
    "    ]\n",
    "    return Dataset.from_list(examples)\n",
    "\n"
   ]
  },
  {
   "cell_type": "code",
   "execution_count": 29,
   "id": "53c16149",
   "metadata": {},
   "outputs": [
    {
     "name": "stderr",
     "output_type": "stream",
     "text": [
      "Evaluating: 100%|██████████| 5/5 [00:05<00:00,  1.16s/it]\n"
     ]
    },
    {
     "name": "stdout",
     "output_type": "stream",
     "text": [
      "\n",
      "🔹 Full RAG Evaluation Results\n",
      "{'context_recall': 1.0000, 'context_precision': 1.0000, 'faithfulness': 1.0000, 'answer_correctness': 0.7408, 'answer_similarity': 0.9632}\n"
     ]
    }
   ],
   "source": [
    "\n",
    "\n",
    "dataset = build_dataset()\n",
    "\n",
    "# --- All metrics across retriever, generator, and end-to-end ---\n",
    "all_metrics = [\n",
    "    context_recall, context_precision,  # Retriever\n",
    "    \n",
    "    faithfulness, answer_correctness, answer_similarity  # Generator\n",
    "\n",
    "]\n",
    "\n",
    "results = evaluate(dataset, metrics=all_metrics)\n",
    "\n",
    "print(\"\\n🔹 Full RAG Evaluation Results\")\n",
    "print(results)\n"
   ]
  },
  {
   "cell_type": "code",
   "execution_count": null,
   "id": "b147606c",
   "metadata": {},
   "outputs": [
    {
     "name": "stdout",
     "output_type": "stream",
     "text": [
      "\n",
      "🔹 Detailed Scores (per question & metric)\n",
      "\n",
      "Q1: How often do employees get paid?\n",
      "  Answer: Employees get paid bi-weekly.\n",
      "  Ground Truth: Employees are paid bi-weekly via direct deposit.\n",
      "  Contexts: ['Employees are paid bi-weekly via direct deposit.', 'Employees must submit a leave request for approval.', 'Company internet must be used for work-related tasks only.']\n"
     ]
    },
    {
     "ename": "KeyError",
     "evalue": "'ContextRecall(_required_columns={<MetricType.SINGLE_TURN: \\'single_turn\\'>: {\\'retrieved_contexts\\', \\'reference\\', \\'user_input\\'}}, name=\\'context_recall\\', llm=None, output_type=<MetricOutputType.CONTINUOUS: \\'continuous\\'>, context_recall_prompt=ContextRecallClassificationPrompt(instruction=Given a context, and an answer, analyze each sentence in the answer and classify if the sentence can be attributed to the given context or not. Use only \\'Yes\\' (1) or \\'No\\' (0) as a binary classification. Output json with reason., examples=[(QCA(question=\\'What can you tell me about albert Albert Einstein?\\', context=\"Albert Einstein (14 March 1879 - 18 April 1955) was a German-born theoretical physicist, widely held to be one of the greatest and most influential scientists of all time. Best known for developing the theory of relativity, he also made important contributions to quantum mechanics, and was thus a central figure in the revolutionary reshaping of the scientific understanding of nature that modern physics accomplished in the first decades of the twentieth century. His mass-energy equivalence formula E = mc2, which arises from relativity theory, has been called \\'the world\\'s most famous equation\\'. He received the 1921 Nobel Prize in Physics \\'for his services to theoretical physics, and especially for his discovery of the law of the photoelectric effect\\', a pivotal step in the development of quantum theory. His work is also known for its influence on the philosophy of science. In a 1999 poll of 130 leading physicists worldwide by the British journal Physics World, Einstein was ranked the greatest physicist of all time. His intellectual achievements and originality have made Einstein synonymous with genius.\", answer=\\'Albert Einstein, born on 14 March 1879, was a German-born theoretical physicist, widely held to be one of the greatest and most influential scientists of all time. He received the 1921 Nobel Prize in Physics for his services to theoretical physics. He published 4 papers in 1905. Einstein moved to Switzerland in 1895.\\'), ContextRecallClassifications(classifications=[ContextRecallClassification(statement=\\'Albert Einstein, born on 14 March 1879, was a German-born theoretical physicist, widely held to be one of the greatest and most influential scientists of all time.\\', reason=\\'The date of birth of Einstein is mentioned clearly in the context.\\', attributed=1), ContextRecallClassification(statement=\\'He received the 1921 Nobel Prize in Physics for his services to theoretical physics.\\', reason=\\'The exact sentence is present in the given context.\\', attributed=1), ContextRecallClassification(statement=\\'He published 4 papers in 1905.\\', reason=\\'There is no mention about papers he wrote in the given context.\\', attributed=0), ContextRecallClassification(statement=\\'Einstein moved to Switzerland in 1895.\\', reason=\\'There is no supporting evidence for this in the given context.\\', attributed=0)]))], language=english), max_retries=1)'",
     "output_type": "error",
     "traceback": [
      "\u001b[31m---------------------------------------------------------------------------\u001b[39m",
      "\u001b[31mKeyError\u001b[39m                                  Traceback (most recent call last)",
      "\u001b[36mCell\u001b[39m\u001b[36m \u001b[39m\u001b[32mIn[31]\u001b[39m\u001b[32m, line 12\u001b[39m\n\u001b[32m     10\u001b[39m \u001b[38;5;28;01mfor\u001b[39;00m metric \u001b[38;5;129;01min\u001b[39;00m all_metrics:\n\u001b[32m     11\u001b[39m     metric_name = metric.\u001b[34m__name__\u001b[39m \u001b[38;5;28;01mif\u001b[39;00m \u001b[38;5;28mhasattr\u001b[39m(metric, \u001b[33m\"\u001b[39m\u001b[33m__name__\u001b[39m\u001b[33m\"\u001b[39m) \u001b[38;5;28;01melse\u001b[39;00m \u001b[38;5;28mstr\u001b[39m(metric)\n\u001b[32m---> \u001b[39m\u001b[32m12\u001b[39m     score = \u001b[43mresults\u001b[49m\u001b[43m[\u001b[49m\u001b[43mmetric_name\u001b[49m\u001b[43m]\u001b[49m[i]\n\u001b[32m     13\u001b[39m     \u001b[38;5;28mprint\u001b[39m(\u001b[33mf\u001b[39m\u001b[33m\"\u001b[39m\u001b[33m    \u001b[39m\u001b[38;5;132;01m{\u001b[39;00mmetric_name\u001b[38;5;132;01m}\u001b[39;00m\u001b[33m: \u001b[39m\u001b[38;5;132;01m{\u001b[39;00mscore\u001b[38;5;132;01m:\u001b[39;00m\u001b[33m.3f\u001b[39m\u001b[38;5;132;01m}\u001b[39;00m\u001b[33m\"\u001b[39m)\n",
      "\u001b[36mFile \u001b[39m\u001b[32m~/Training/GenAI_RAG_Eval/.venv/lib/python3.13/site-packages/ragas/dataset_schema.py:433\u001b[39m, in \u001b[36mEvaluationResult.__getitem__\u001b[39m\u001b[34m(self, key)\u001b[39m\n\u001b[32m    432\u001b[39m \u001b[38;5;28;01mdef\u001b[39;00m\u001b[38;5;250m \u001b[39m\u001b[34m__getitem__\u001b[39m(\u001b[38;5;28mself\u001b[39m, key: \u001b[38;5;28mstr\u001b[39m) -> t.List[\u001b[38;5;28mfloat\u001b[39m]:\n\u001b[32m--> \u001b[39m\u001b[32m433\u001b[39m     \u001b[38;5;28;01mreturn\u001b[39;00m \u001b[38;5;28;43mself\u001b[39;49m\u001b[43m.\u001b[49m\u001b[43m_scores_dict\u001b[49m\u001b[43m[\u001b[49m\u001b[43mkey\u001b[49m\u001b[43m]\u001b[49m\n",
      "\u001b[31mKeyError\u001b[39m: 'ContextRecall(_required_columns={<MetricType.SINGLE_TURN: \\'single_turn\\'>: {\\'retrieved_contexts\\', \\'reference\\', \\'user_input\\'}}, name=\\'context_recall\\', llm=None, output_type=<MetricOutputType.CONTINUOUS: \\'continuous\\'>, context_recall_prompt=ContextRecallClassificationPrompt(instruction=Given a context, and an answer, analyze each sentence in the answer and classify if the sentence can be attributed to the given context or not. Use only \\'Yes\\' (1) or \\'No\\' (0) as a binary classification. Output json with reason., examples=[(QCA(question=\\'What can you tell me about albert Albert Einstein?\\', context=\"Albert Einstein (14 March 1879 - 18 April 1955) was a German-born theoretical physicist, widely held to be one of the greatest and most influential scientists of all time. Best known for developing the theory of relativity, he also made important contributions to quantum mechanics, and was thus a central figure in the revolutionary reshaping of the scientific understanding of nature that modern physics accomplished in the first decades of the twentieth century. His mass-energy equivalence formula E = mc2, which arises from relativity theory, has been called \\'the world\\'s most famous equation\\'. He received the 1921 Nobel Prize in Physics \\'for his services to theoretical physics, and especially for his discovery of the law of the photoelectric effect\\', a pivotal step in the development of quantum theory. His work is also known for its influence on the philosophy of science. In a 1999 poll of 130 leading physicists worldwide by the British journal Physics World, Einstein was ranked the greatest physicist of all time. His intellectual achievements and originality have made Einstein synonymous with genius.\", answer=\\'Albert Einstein, born on 14 March 1879, was a German-born theoretical physicist, widely held to be one of the greatest and most influential scientists of all time. He received the 1921 Nobel Prize in Physics for his services to theoretical physics. He published 4 papers in 1905. Einstein moved to Switzerland in 1895.\\'), ContextRecallClassifications(classifications=[ContextRecallClassification(statement=\\'Albert Einstein, born on 14 March 1879, was a German-born theoretical physicist, widely held to be one of the greatest and most influential scientists of all time.\\', reason=\\'The date of birth of Einstein is mentioned clearly in the context.\\', attributed=1), ContextRecallClassification(statement=\\'He received the 1921 Nobel Prize in Physics for his services to theoretical physics.\\', reason=\\'The exact sentence is present in the given context.\\', attributed=1), ContextRecallClassification(statement=\\'He published 4 papers in 1905.\\', reason=\\'There is no mention about papers he wrote in the given context.\\', attributed=0), ContextRecallClassification(statement=\\'Einstein moved to Switzerland in 1895.\\', reason=\\'There is no supporting evidence for this in the given context.\\', attributed=0)]))], language=english), max_retries=1)'"
     ]
    }
   ],
   "source": [
    "\n",
    "# --- All metrics across retriever, generator, and end-to-end ---\n",
    "all_metrics = [\n",
    "    context_recall, context_precision,      # Retriever\n",
    "    faithfulness, answer_correctness, answer_similarity  # Generator\n",
    "]\n",
    "\n",
    "results = evaluate(dataset, metrics=all_metrics)\n",
    "\n",
    "print(\"\\n🔹 Full RAG Evaluation Results (Aggregated)\")\n",
    "print(results)\n",
    "\n",
    "# --- Show detailed per-example breakdown ---\n",
    "print(\"\\n🔹 Detailed Scores (per question & metric)\")\n",
    "for i, row in enumerate(dataset):\n",
    "    print(f\"\\nQ{i+1}: {row['question']}\")\n",
    "    print(f\"  Answer: {row['answer']}\")\n",
    "    print(f\"  Ground Truth: {row['reference']}\")\n",
    "    print(f\"  Contexts: {row['contexts']}\")\n",
    "    \n",
    "    # Each metric is a column in `results` matching the dataset rows\n",
    "    for metric in all_metrics:\n",
    "        metric_name = metric.__name__ if hasattr(metric, \"__name__\") else str(metric)\n",
    "        score = results[metric_name][i]\n",
    "        print(f\"    {metric_name}: {score:.3f}\")"
   ]
  },
  {
   "cell_type": "code",
   "execution_count": null,
   "id": "0016d252",
   "metadata": {},
   "outputs": [],
   "source": []
  }
 ],
 "metadata": {
  "kernelspec": {
   "display_name": ".venv",
   "language": "python",
   "name": "python3"
  },
  "language_info": {
   "codemirror_mode": {
    "name": "ipython",
    "version": 3
   },
   "file_extension": ".py",
   "mimetype": "text/x-python",
   "name": "python",
   "nbconvert_exporter": "python",
   "pygments_lexer": "ipython3",
   "version": "3.13.5"
  }
 },
 "nbformat": 4,
 "nbformat_minor": 5
}
